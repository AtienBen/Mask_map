{
  "nbformat": 4,
  "nbformat_minor": 0,
  "metadata": {
    "colab": {
      "provenance": [],
      "authorship_tag": "ABX9TyOYz7+z2QcoVN6votP42Wst",
      "include_colab_link": true
    },
    "kernelspec": {
      "name": "python3",
      "display_name": "Python 3"
    },
    "language_info": {
      "name": "python"
    }
  },
  "cells": [
    {
      "cell_type": "markdown",
      "metadata": {
        "id": "view-in-github",
        "colab_type": "text"
      },
      "source": [
        "<a href=\"https://colab.research.google.com/github/AtienBen/Mask_map/blob/main/Mask_map_API.ipynb\" target=\"_parent\"><img src=\"https://colab.research.google.com/assets/colab-badge.svg\" alt=\"Open In Colab\"/></a>"
      ]
    },
    {
      "cell_type": "code",
      "execution_count": 4,
      "metadata": {
        "id": "xqH9f1zZMkZ0",
        "colab": {
          "base_uri": "https://localhost:8080/"
        },
        "outputId": "3f0f486e-6af8-4b1d-ce32-f87ad2dce6e4"
      },
      "outputs": [
        {
          "output_type": "stream",
          "name": "stdout",
          "text": [
            "{'臺北市': 339, '高雄市': 423, '臺中市': 435, '臺南市': 279, '基隆市': 56, '新竹市': 38, '嘉義市': 66, '新北市': 506, '桃園市': 270, '新竹縣': 47, '宜蘭縣': 75, '苗栗縣': 56, '彰化縣': 180, '南投縣': 66, '雲林縣': 130, '嘉義縣': 83, '屏東縣': 139, '澎湖縣': 10, '花蓮縣': 46, '臺東縣': 22, '金門縣': 5, '連江縣': 0}\n",
            "{'連江縣': 0, '澎湖縣': 11350, '金門縣': 15510, '臺東縣': 27720, '新竹市': 45630, '新竹縣': 53690, '花蓮縣': 56570, '基隆市': 79840, '南投縣': 81680, '宜蘭縣': 105830, '嘉義市': 105870, '嘉義縣': 112190, '苗栗縣': 122600, '屏東縣': 181480, '雲林縣': 198020, '彰化縣': 218090, '臺北市': 323660, '桃園市': 343670, '臺南市': 406930, '高雄市': 428940, '臺中市': 555160, '新北市': 677540}\n",
            "[('臺北市', '339', '2023-05-25 15:15:14.055346'), ('高雄市', '423', '2023-05-25 15:15:14.065345'), ('臺中市', '435', '2023-05-25 15:15:14.075078'), ('臺南市', '279', '2023-05-25 15:15:14.083696'), ('基隆市', '56', '2023-05-25 15:15:14.091984'), ('新竹市', '38', '2023-05-25 15:15:14.099893'), ('嘉義市', '66', '2023-05-25 15:15:14.107963'), ('新北市', '506', '2023-05-25 15:15:14.116871'), ('桃園市', '270', '2023-05-25 15:15:14.126418'), ('新竹縣', '47', '2023-05-25 15:15:14.136121'), ('宜蘭縣', '75', '2023-05-25 15:15:14.145212'), ('苗栗縣', '56', '2023-05-25 15:15:14.154903'), ('彰化縣', '180', '2023-05-25 15:15:14.164692'), ('南投縣', '66', '2023-05-25 15:15:14.173911'), ('雲林縣', '130', '2023-05-25 15:15:14.181800'), ('嘉義縣', '83', '2023-05-25 15:15:14.189827'), ('屏東縣', '139', '2023-05-25 15:15:14.199255'), ('澎湖縣', '10', '2023-05-25 15:15:14.208813'), ('花蓮縣', '46', '2023-05-25 15:15:14.219175'), ('臺東縣', '22', '2023-05-25 15:15:14.227958'), ('金門縣', '5', '2023-05-25 15:15:14.245014'), ('連江縣', '0', '2023-05-25 15:15:14.254718')]\n"
          ]
        }
      ],
      "source": [
        "import requests\n",
        "import json\n",
        "import sqlite3\n",
        "import datetime\n",
        "\n",
        "\n",
        "\n",
        "# 利用 requests 對 API 來源發送一個請求\n",
        "url = (\"https://raw.githubusercontent.com/kiang/pharmacies/master/json/points.json\")\n",
        "response = requests.get(url)\n",
        "\n",
        "# 將請求回應的內容存成一個字串格式\n",
        "str_a = response.text\n",
        "\n",
        "# 將長得像 json 格式的字串解析成字典或列表\n",
        "data = json.loads(str_a)\n",
        "\n",
        "med_count = {}\n",
        "# 填入欄位名稱\n",
        "for d in data['features']:\n",
        "    #conunty = d['properties']['county'] 部分資料此欄位空缺\n",
        "    conunty = d['properties']['address'][:3]\n",
        "    if conunty not in med_count:\n",
        "         med_count[conunty] = 0\n",
        "    else:\n",
        "         med_count[conunty] +=1\n",
        "\n",
        "print(med_count)\n",
        "\n",
        "mask_count = {}\n",
        "\n",
        "# 填入欄位名稱\n",
        "for d in data['features']:\n",
        "    conunty = d['properties']['address'][:3]\n",
        "    mask_adult_count = d['properties']['mask_adult']\n",
        "    if conunty not in mask_count:\n",
        "         mask_count[conunty] = 0\n",
        "    else:\n",
        "         mask_count[conunty] += mask_adult_count\n",
        "\n",
        "# 將結果從大到小排列\n",
        "mask_count = dict(sorted(mask_count.items(), key=lambda item: item[1]))\n",
        "\n",
        "print(mask_count)\n",
        "\n",
        "conn = sqlite3.connect('example.db')\n",
        "c = conn.cursor()\n",
        "\n",
        "# 新增pharmacies且清空資料表\n",
        "c.execute('''CREATE TABLE IF NOT EXISTS pharmacies\n",
        "             (city text, counts text, createdAt datetime)''')\n",
        "c.execute('''DELETE FROM pharmacies''')\n",
        "conn.commit()\n",
        "\n",
        "#新增資料med_count至資料庫\n",
        "for city,counts in med_count.items():\n",
        "  t = datetime.datetime.now()\n",
        "  c.execute(f\"INSERT INTO pharmacies VALUES ('{city}' , '{counts}' , '{t}')\")\n",
        "  conn.commit()\n",
        "\n",
        "\n",
        "# 查詢資料FROM pharmacies\n",
        "c.execute(\"SELECT * FROM pharmacies\")\n",
        "print(c.fetchall())\n",
        "\n",
        "\n",
        "\n",
        "conn.commit()\n",
        "conn.close()"
      ]
    }
  ]
}