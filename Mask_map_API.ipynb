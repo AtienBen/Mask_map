{
  "nbformat": 4,
  "nbformat_minor": 0,
  "metadata": {
    "colab": {
      "provenance": [],
      "authorship_tag": "ABX9TyPlsJ3jSe59a+l7FVzc9Xib",
      "include_colab_link": true
    },
    "kernelspec": {
      "name": "python3",
      "display_name": "Python 3"
    },
    "language_info": {
      "name": "python"
    }
  },
  "cells": [
    {
      "cell_type": "markdown",
      "metadata": {
        "id": "view-in-github",
        "colab_type": "text"
      },
      "source": [
        "<a href=\"https://colab.research.google.com/github/AtienBen/Mask_map/blob/main/Mask_map_API.ipynb\" target=\"_parent\"><img src=\"https://colab.research.google.com/assets/colab-badge.svg\" alt=\"Open In Colab\"/></a>"
      ]
    },
    {
      "cell_type": "code",
      "execution_count": 8,
      "metadata": {
        "id": "xqH9f1zZMkZ0",
        "colab": {
          "base_uri": "https://localhost:8080/"
        },
        "outputId": "b325d5db-fb6c-4e8a-92db-a2df2288b86e"
      },
      "outputs": [
        {
          "output_type": "stream",
          "name": "stdout",
          "text": [
            "{'臺北市': 339, '高雄市': 423, '臺中市': 435, '臺南市': 279, '基隆市': 56, '新竹市': 38, '嘉義市': 66, '新北市': 506, '桃園市': 270, '新竹縣': 47, '宜蘭縣': 75, '苗栗縣': 56, '彰化縣': 180, '南投縣': 66, '雲林縣': 130, '嘉義縣': 83, '屏東縣': 139, '澎湖縣': 10, '花蓮縣': 46, '臺東縣': 22, '金門縣': 5, '連江縣': 0}\n",
            "{'臺北市': 323660, '高雄市': 428940, '臺中市': 555160, '臺南市': 406930, '基隆市': 79840, '新竹市': 45630, '嘉義市': 105870, '新北市': 677540, '桃園市': 343670, '新竹縣': 53690, '宜蘭縣': 105830, '苗栗縣': 122600, '彰化縣': 218090, '南投縣': 81680, '雲林縣': 198020, '嘉義縣': 112190, '屏東縣': 181480, '澎湖縣': 11350, '花蓮縣': 56570, '臺東縣': 27720, '金門縣': 15510, '連江縣': 0}\n"
          ]
        }
      ],
      "source": [
        "import requests\n",
        "import json\n",
        "\n",
        "# 利用 requests 對 API 來源發送一個請求\n",
        "url = (\"https://raw.githubusercontent.com/kiang/pharmacies/master/json/points.json\")\n",
        "response = requests.get(url)\n",
        "\n",
        "# 將請求回應的內容存成一個字串格式\n",
        "str_a = response.text\n",
        "\n",
        "# 將長得像 json 格式的字串解析成字典或列表\n",
        "data = json.loads(str_a)\n",
        "\n",
        "med_count = {}\n",
        "# 填入欄位名稱\n",
        "for d in data['features']:\n",
        "    #conunty = d['properties']['county'] 部分資料此欄位空缺\n",
        "    conunty = d['properties']['address'][:3]\n",
        "    if conunty not in med_count:\n",
        "         med_count[conunty] = 0\n",
        "    else:\n",
        "         med_count[conunty] +=1\n",
        "\n",
        "print(med_count)\n",
        "\n",
        "mask_count = {}\n",
        "\n",
        "# 填入欄位名稱\n",
        "for d in data['features']:\n",
        "    conunty = d['properties']['address'][:3]\n",
        "    mask_adult_count = d['properties']['mask_adult']\n",
        "    if conunty not in mask_count:\n",
        "         mask_count[conunty] = 0\n",
        "    else:\n",
        "         mask_count[conunty] += mask_adult_count\n",
        "\n",
        "# 將結果從大到小排列\n",
        "med_count = dict(sorted(mask_count.items(), key=lambda item: item[1]))\n",
        "\n",
        "print(mask_count)"
      ]
    }
  ]
}