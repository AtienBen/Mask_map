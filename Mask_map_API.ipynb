{
  "nbformat": 4,
  "nbformat_minor": 0,
  "metadata": {
    "colab": {
      "provenance": [],
      "authorship_tag": "ABX9TyM3MTa4h3bM9TISEals+2pl",
      "include_colab_link": true
    },
    "kernelspec": {
      "name": "python3",
      "display_name": "Python 3"
    },
    "language_info": {
      "name": "python"
    }
  },
  "cells": [
    {
      "cell_type": "markdown",
      "metadata": {
        "id": "view-in-github",
        "colab_type": "text"
      },
      "source": [
        "<a href=\"https://colab.research.google.com/github/AtienBen/Mask_map/blob/main/Mask_map_API.ipynb\" target=\"_parent\"><img src=\"https://colab.research.google.com/assets/colab-badge.svg\" alt=\"Open In Colab\"/></a>"
      ]
    },
    {
      "cell_type": "code",
      "execution_count": 5,
      "metadata": {
        "id": "xqH9f1zZMkZ0",
        "colab": {
          "base_uri": "https://localhost:8080/"
        },
        "outputId": "dc4a762c-ec8b-451d-d28d-1bfd90378b9c"
      },
      "outputs": [
        {
          "output_type": "stream",
          "name": "stdout",
          "text": [
            "{'臺北市': 339, '高雄市': 423, '臺中市': 435, '臺南市': 279, '基隆市': 56, '新竹市': 38, '嘉義市': 66, '新北市': 506, '桃園市': 270, '新竹縣': 47, '宜蘭縣': 75, '苗栗縣': 56, '彰化縣': 180, '南投縣': 66, '雲林縣': 130, '嘉義縣': 83, '屏東縣': 139, '澎湖縣': 10, '花蓮縣': 46, '臺東縣': 22, '金門縣': 5, '連江縣': 0}\n"
          ]
        }
      ],
      "source": [
        "import requests\n",
        "import json\n",
        "\n",
        "# 利用 requests 對 API 來源發送一個請求\n",
        "url = (\"https://raw.githubusercontent.com/kiang/pharmacies/master/json/points.json\")\n",
        "response = requests.get(url)\n",
        "\n",
        "# 將請求回應的內容存成一個字串格式\n",
        "str_a = response.text\n",
        "\n",
        "# 將長得像 json 格式的字串解析成字典或列表\n",
        "data = json.loads(str_a)\n",
        "\n",
        "med_count = {}\n",
        "# 填入欄位名稱\n",
        "for d in data['features']:\n",
        "    #conunty = d['properties']['county'] 部分資料此欄位空缺\n",
        "    conunty = d['properties']['address'][:3]\n",
        "    if conunty not in med_count:\n",
        "         med_count[conunty] = 0\n",
        "    else:\n",
        "         med_count[conunty] +=1\n",
        "\n",
        "print(med_count)\n"
      ]
    }
  ]
}